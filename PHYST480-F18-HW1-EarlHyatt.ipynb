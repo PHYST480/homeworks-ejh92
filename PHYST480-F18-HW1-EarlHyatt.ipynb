{
 "cells": [
  {
   "cell_type": "markdown",
   "metadata": {},
   "source": [
    "# Homework 1: Problems\n",
    "### PHYS T480/580, Fall 2018\n",
    "https://github.com/gtrichards/PHYS_T480_F18/\n",
    "\n",
    "\n",
    "## Problem 1\n",
    "\n",
    "Practice your git and github skills by submitting this homework via github:\n",
    "\n",
    "* Clone the class github repository to your computer, the one at https://github.com/gtrichards/PHYS_T480_F18/  (should already have done this).\n",
    "* Click the Github Classroom link you received via the mailing list. This will create a private github repository through which you'll be submitting your homeworks. Clone that repository to your computer.\n",
    "* Copy this notebook from the class github repository to your private homework submission repository. IMPORTANT: rename it to `<filename>-FirstLast.ipynb` once you copy it, where `<filename>` is the existing filename and `FirstLast` are your first and last name. Example: `PHYST480-F18-HW1-GordonRichards.ipynb`.\n",
    "* Solve problems #2, #3, and #4 by filling in the missing cells in the copied notebook.\n",
    "* Commit the notebook to your repository, and `git push` it upstream.\n",
    "\n",
    "\n",
    "## Problem 2\n",
    "Generate a sample of 10,000 data values drawn from N($\\mu$=1.0, $\\sigma$=0.2) and\n",
    "draw a pretty histogram, with the bin size determined using the Freedman-Diaconis\n",
    "rule. Show (Poissonian) uncertainty for each histogram value, and overplot the\n",
    "true distribution. \n",
    "\n",
    "## Problem 3\n",
    "Repeat the problem 2, but now add to the Gaussian sample (concatenate arrays with `np.concatenate()`) \n",
    "another sample of 10,000 data values drawn from a `cauchy` distribution with\n",
    "$\\mu=2.0$ and $\\gamma=0.5$. Do it twice: once with the bin size determined \n",
    "using the Freedman-Diaconis rule and once using the Scott's rule. Comment. \n",
    "\n",
    "\n",
    "## Problem 4\n",
    "Follow the example from the Central Limit Theorem cells in BasicStats2.ipynb and simulate the distribution of 1,000,000 $\\mathscr{N}(0,1)$ draws of $\\chi^2$ for `N=2` and `N=5`.  Overplot the theoretical pdf (it will help to use `scipy.special.gamma()`)."
   ]
  },
  {
   "cell_type": "markdown",
   "metadata": {},
   "source": [
    "### Some useful definitions and functions"
   ]
  },
  {
   "cell_type": "code",
   "execution_count": 2,
   "metadata": {},
   "outputs": [],
   "source": [
    "import numpy as np\n",
    "from matplotlib import pyplot as plt\n",
    "from scipy import optimize\n",
    "from scipy.stats import cauchy, norm\n",
    "from astroML.plotting import setup_text_plots\n",
    "from astroML.stats import sigmaG\n",
    "from astroML.plotting import hist as fancyhist\n",
    "setup_text_plots(fontsize=14, usetex=True)\n",
    "%matplotlib inline"
   ]
  },
  {
   "cell_type": "markdown",
   "metadata": {},
   "source": [
    "This astroML function adjusts matplotlib settings for a uniform feel in the \n",
    "textbook. Note that with `usetex=True`, fonts are rendered with $\\LaTeX$. This \n",
    "may result in an error if $\\LaTeX$ is not installed on your system.  In that \n",
    "case, you can set usetex to `False`."
   ]
  },
  {
   "cell_type": "code",
   "execution_count": 20,
   "metadata": {},
   "outputs": [
    {
     "data": {
      "text/plain": [
       "[<matplotlib.lines.Line2D at 0x7f9bf498b550>]"
      ]
     },
     "execution_count": 20,
     "metadata": {},
     "output_type": "execute_result"
    },
    {
     "data": {
      "image/png": "[encoded data removed]",
      "text/plain": [
       "<Figure size 432x288 with 1 Axes>"
      ]
     },
     "metadata": {
      "needs_background": "light"
     },
     "output_type": "display_data"
    }
   ],
   "source": [
    "# Problem 2\n",
    "# Generate a sample of 10,000 data values drawn from N(μ=1.0, σ=0.2) and \n",
    "# draw a pretty histogram, with the bin size determined using the \n",
    "# Freedman-Diaconis rule. \n",
    "# Show (Poissonian) uncertainty for each histogram value, and \n",
    "# overplot the true distribution. \n",
    "stdDev = 0.2\n",
    "mean = 1.0\n",
    "sampleSize = 10_000\n",
    "population = norm(mean, stdDev)\n",
    "sampleArr = population.rvs(sampleSize)\n",
    "\n",
    "binSize = 2.7*sigmaG(sampleArr)/(sampleSize**(1/3))\n",
    "bins = np.append(np.arange(start=sampleArr.min(), stop=sampleArr.max(),step=binSize),\n",
    "                  sampleArr.max())\n",
    "\n",
    "# plot\n",
    "plt.hist(sampleArr, bins, histtype='step', density=True)\n",
    "# _ = fancyhist(sampleArr, bins=\"freedman\", histtype=\"step\")\n",
    "\n",
    "# overplot true\n",
    "\n",
    "xRangeArr = np.linspace(sampleArr.min(), sampleArr.max(), sampleSize)\n",
    "pdfArr = population.pdf(xRangeArr)\n",
    "plt.plot(xRangeArr, pdfArr)\n",
    "#print(sigmaG(sample))\n",
    "\n",
    " "
   ]
  },
  {
   "cell_type": "code",
   "execution_count": 21,
   "metadata": {},
   "outputs": [
    {
     "data": {
      "text/plain": [
       "[<matplotlib.lines.Line2D at 0x7f9bf4995e80>]"
      ]
     },
     "execution_count": 21,
     "metadata": {},
     "output_type": "execute_result"
    },
    {
     "data": {
      "image/png": "[encoded data removed]",
      "text/plain": [
       "<Figure size 432x288 with 1 Axes>"
      ]
     },
     "metadata": {
      "needs_background": "light"
     },
     "output_type": "display_data"
    }
   ],
   "source": [
    "# prob 3\n",
    "# Repeat the problem 2, but now add to the Gaussian sample \n",
    "# (concatenate arrays with np.concatenate()) another sample \n",
    "# of 10,000 data values drawn from a cauchy distribution with \n",
    "# μ=2.0 and γ=0.5. Do it twice: once with the bin size determined \n",
    "# using the Freedman-Diaconis rule and once using the Scott's rule. \n",
    "# Comment. \n",
    "\n",
    "# deps\n",
    "xRangeArr = np.linspace(sampleArr.min(), sampleArr.max(), sampleSize)\n",
    "sampleSize = 10_000\n",
    "\n",
    "# Norm\n",
    "stdDev = 0.2\n",
    "mean = 1.0\n",
    "populationNorm = norm(mean, stdDev)\n",
    "sampleNormArr = populationNorm.rvs(sampleSize)\n",
    "pdfNormArr = populationNorm.pdf(xRangeArr)\n",
    "\n",
    "# Cauchy\n",
    "mu = 2.0\n",
    "gamma = 0.5\n",
    "populationCauchy = cauchy(mu, gamma)\n",
    "sampleCauchyArr = populationCauchy.rvs(sampleSize)\n",
    "pdfCauchyArr = populationCauchy.pdf(xRangeArr)\n",
    "\n",
    "# Together\n",
    "fullSampleArr = np.concatenate([sampleNormArr, sampleCauchyArr])\n",
    "fullPdfArr = pdfNormArr + pdfCauchyArr\n",
    "\n",
    "### plot\n",
    "\n",
    "# histogram\n",
    "binSize = 2.7*sigmaG(sampleArr)/(sampleSize**(1/3))\n",
    "bins = np.append(np.arange(start=sampleArr.min(), stop=sampleArr.max(),step=binSize),\n",
    "                  sampleArr.max())\n",
    "\n",
    "\n",
    "plt.hist(sampleArr, bins, histtype='step', density=True)\n",
    "\n",
    "\n",
    "# overplot true PDF\n",
    "plt.plot(xRangeArr, fullPdfArr)\n",
    "\n"
   ]
  },
  {
   "cell_type": "code",
   "execution_count": null,
   "metadata": {},
   "outputs": [],
   "source": []
  }
 ],
 "metadata": {
  "anaconda-cloud": {},
  "kernelspec": {
   "display_name": "Python 3",
   "language": "python",
   "name": "python3"
  },
  "language_info": {
   "codemirror_mode": {
    "name": "ipython",
    "version": 3
   },
   "file_extension": ".py",
   "mimetype": "text/x-python",
   "name": "python",
   "nbconvert_exporter": "python",
   "pygments_lexer": "ipython3",
   "version": "3.6.6"
  }
 },
 "nbformat": 4,
 "nbformat_minor": 2
}
